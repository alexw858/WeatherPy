{
 "cells": [
  {
   "cell_type": "code",
   "execution_count": null,
   "metadata": {},
   "outputs": [],
   "source": [
    "# Dependencies\n",
    "import json\n",
    "import requests\n",
    "from citipy import citipy\n",
    "from pprint import pprint\n",
    "import random\n",
    "import matplotlib.pyplot as plt\n",
    "import pandas as pd\n",
    "import numpy as np\n",
    "\n",
    "# WeatherMap API key\n",
    "from config import wkey"
   ]
  },
  {
   "cell_type": "code",
   "execution_count": null,
   "metadata": {},
   "outputs": [],
   "source": [
    "# Define base url, create empty lists to hold random latitude and longitude values\n",
    "# Create empty list to hold cities and country codes\n",
    "url = \"http://api.openweathermap.org/data/2.5/weather?\"\n",
    "lat = []\n",
    "lon = []\n",
    "city_list = []\n",
    "country_code = []"
   ]
  },
  {
   "cell_type": "code",
   "execution_count": null,
   "metadata": {},
   "outputs": [],
   "source": [
    "lat=np.random.uniform(-90.000, 90.000, 1500)\n",
    "lon = np.random.uniform(-180.000, 180.000, 1500)\n",
    "lat_lons = zip(lat,lon)"
   ]
  },
  {
   "cell_type": "code",
   "execution_count": null,
   "metadata": {},
   "outputs": [],
   "source": [
    "# can define city_list here as empty list to not append duplicates (resets list)\n",
    "# would also need country_code\n",
    "for lat_lon in lat_lons:\n",
    "    city= citipy.nearest_city(lat_lon[0], lat_lon[1]).city_name\n",
    "    if city not in city_list:\n",
    "        city_list.append(city)\n",
    "        country_code.append(citipy.nearest_city(lat_lon[0], lat_lon[1]).country_code)"
   ]
  },
  {
   "cell_type": "code",
   "execution_count": null,
   "metadata": {},
   "outputs": [],
   "source": [
    "# More than 500 because OpenWeatherMap may not have city\n",
    "len(city_list)"
   ]
  },
  {
   "cell_type": "code",
   "execution_count": null,
   "metadata": {
    "scrolled": true
   },
   "outputs": [],
   "source": [
    "# Make an API call for each query url, append resultant json files to weather_json list\n",
    "# %20 is used for spaces in urls\n",
    "weather_json = []\n",
    "for i, city in enumerate(city_list):\n",
    "    query_url = url + \"appid=\" + wkey + \"&q=\" + city.replace(\" \", \"%20\") + \",\" + country_code[i]\n",
    "    weather_response = requests.get(query_url)\n",
    "    weather_json.append(weather_response.json())\n",
    "# Print log of url\n",
    "    print(query_url)"
   ]
  },
  {
   "cell_type": "code",
   "execution_count": null,
   "metadata": {
    "scrolled": true
   },
   "outputs": [],
   "source": [
    "# Empty lists to hold all values of interest\n",
    "new_city = []\n",
    "latitudes = []\n",
    "temps = []\n",
    "humidity = []\n",
    "cloudiness = []\n",
    "windspeed = []\n",
    "\n",
    "# Loop through each json file and gather data into lists\n",
    "# new_city is gathered from the json file, fixing the error if OpenWeatherMap doesn't have data on unique_city\n",
    "for api_call in weather_json:\n",
    "    try:\n",
    "        new_city.append(api_call['name'])\n",
    "        latitudes.append(api_call['coord']['lat'])\n",
    "        temps.append(api_call['main']['temp'])\n",
    "        humidity.append(api_call['main']['humidity'])\n",
    "        cloudiness.append(api_call['clouds']['all'])\n",
    "        windspeed.append(api_call['wind']['speed'])\n",
    "    except:\n",
    "        print(\"City not found\")\n",
    "        pass\n",
    "# print(new_city)\n",
    "# print(latitudes)\n",
    "# print(temps)\n",
    "# print(humidity)\n",
    "# print(cloudiness)\n",
    "# print(windspeed)\n",
    "\n",
    "print(\"City:\", len(new_city), \"Latitude:\", len(latitudes), \"Temps:\", len(temps), \"Humidity:\", len(humidity), \"Cloudiness:\", \n",
    "     len(cloudiness), \"Windspeed: \", len(windspeed))"
   ]
  },
  {
   "cell_type": "code",
   "execution_count": null,
   "metadata": {},
   "outputs": [],
   "source": [
    "# DataFrame with all data\n",
    "# I can use DataFrame methods to ensure I don't have duplicate cities\n",
    "# unique_city removes duplicates, but OpenWeatherMap doesn't have data on all unique cities so lists are still uneven\n",
    "\n",
    "weather_df = pd.DataFrame({\n",
    "    \"City\":new_city, \n",
    "    \"Latitude\":latitudes, \n",
    "    \"Temperature\":temps, \n",
    "    \"Humidity\":humidity, \n",
    "    \"Cloudiness\":cloudiness, \n",
    "    \"Windspeed\":windspeed\n",
    "})"
   ]
  },
  {
   "cell_type": "code",
   "execution_count": null,
   "metadata": {},
   "outputs": [],
   "source": [
    "# Latitude vs Temperature\n",
    "plt.title(\"Latitude v Temperature\")\n",
    "plt.xlabel(\"Latitude\")\n",
    "plt.ylabel(\"Temperature (K)\")\n",
    "plt.scatter(weather_df[\"Latitude\"], weather_df[\"Temperature\"], marker=\"o\", facecolors=\"red\", \n",
    "            edgecolors=\"black\")"
   ]
  },
  {
   "cell_type": "code",
   "execution_count": null,
   "metadata": {},
   "outputs": [],
   "source": [
    "# Latitude vs Humidity\n",
    "plt.title(\"Latitude v Humidity\")\n",
    "plt.xlabel(\"Latitude\")\n",
    "plt.ylabel(\"Humidity\")\n",
    "plt.scatter(weather_df[\"Latitude\"], weather_df[\"Humidity\"], marker=\"o\", facecolors=\"red\", edgecolors=\"black\")"
   ]
  },
  {
   "cell_type": "code",
   "execution_count": null,
   "metadata": {},
   "outputs": [],
   "source": [
    "# Latitude vs Cloudiness\n",
    "plt.title(\"Latitude v Cloudiness\")\n",
    "plt.xlabel(\"Latitude\")\n",
    "plt.ylabel(\"Cloudiness\")\n",
    "plt.scatter(weather_df[\"Latitude\"], weather_df[\"Cloudiness\"], marker=\"o\", facecolors=\"red\", \n",
    "            edgecolors=\"black\")"
   ]
  },
  {
   "cell_type": "code",
   "execution_count": null,
   "metadata": {},
   "outputs": [],
   "source": [
    "# Latitude vs Windspeed\n",
    "plt.title(\"Latitude v Windspeed\")\n",
    "plt.xlabel(\"Latitude\")\n",
    "plt.ylabel(\"Windspeed\")\n",
    "plt.scatter(weather_df[\"Latitude\"], weather_df[\"Windspeed\"], marker=\"o\", facecolors=\"red\", edgecolors=\"black\")"
   ]
  }
 ],
 "metadata": {
  "kernelspec": {
   "display_name": "Python 3",
   "language": "python",
   "name": "python3"
  },
  "language_info": {
   "codemirror_mode": {
    "name": "ipython",
    "version": 3
   },
   "file_extension": ".py",
   "mimetype": "text/x-python",
   "name": "python",
   "nbconvert_exporter": "python",
   "pygments_lexer": "ipython3",
   "version": "3.6.4"
  }
 },
 "nbformat": 4,
 "nbformat_minor": 2
}
