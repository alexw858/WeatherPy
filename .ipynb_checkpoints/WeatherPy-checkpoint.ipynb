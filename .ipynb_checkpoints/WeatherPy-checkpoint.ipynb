{
 "cells": [
  {
   "cell_type": "code",
   "execution_count": null,
   "metadata": {},
   "outputs": [],
   "source": [
    "# Dependencies\n",
    "import json\n",
    "import requests\n",
    "from citipy import citipy\n",
    "from pprint import pprint\n",
    "import random\n",
    "import matplotlib.pyplot as plt\n",
    "import pandas as pd\n",
    "\n",
    "# WeatherMap API key\n",
    "from config import wkey"
   ]
  },
  {
   "cell_type": "code",
   "execution_count": null,
   "metadata": {},
   "outputs": [],
   "source": [
    "# Define base url, create empty lists to hold random latitude and longitude values\n",
    "# Create empty list to hold cities and country codes\n",
    "url = \"http://api.openweathermap.org/data/2.5/weather?\"\n",
    "lat = []\n",
    "lon = []\n",
    "city = []\n",
    "country_code = []"
   ]
  },
  {
   "cell_type": "code",
   "execution_count": null,
   "metadata": {},
   "outputs": [],
   "source": [
    "# Generate random latitudes and longitudes, use citipy's nearest_city method to find nearest city to random coordinates\n",
    "# Use .country_code method to find the country code for that city\n",
    "# Append the city name and country code to lists\n",
    "for i in range(500):\n",
    "    lat = random.randint(-90,90)\n",
    "    lon = random.randint(-180,180)\n",
    "    city.append(citipy.nearest_city(lat, lon).city_name)\n",
    "    country_code.append(citipy.nearest_city(lat, lon).country_code)\n",
    "\n",
    "# unique_city removes duplicate cities (not needed because I gather cities again from json to remove dups)\n",
    "# unique_city = list(set(city))"
   ]
  },
  {
   "cell_type": "code",
   "execution_count": null,
   "metadata": {},
   "outputs": [],
   "source": [
    "# Define how to use lat and lon to get a city name\n",
    "# city_name = citipy.nearest_city(lat, lon).city_name\n",
    "# lat = random.randint(0,90)\n",
    "# lon = random.randint(0,180)\n",
    "# for i in range(500):\n",
    "#     # check if previous city is the same as the current generated city\n",
    "#     if city_name[i-1] != city_name[i]\n",
    "#         city.append(citipy.nearest_city(lat, lon).city_name)\n",
    "#     else:\n",
    "# How do I not count duplicates?"
   ]
  },
  {
   "cell_type": "code",
   "execution_count": null,
   "metadata": {},
   "outputs": [],
   "source": [
    "# Could I just redefine lat and lon in the else statement and re-do it?\n",
    "# while len(city) < 500:\n",
    "#     lat = random.randint(0,90)"
   ]
  },
  {
   "cell_type": "code",
   "execution_count": null,
   "metadata": {},
   "outputs": [],
   "source": [
    "# citipy. (tab) gives all methods\n",
    "#city. (tab) gives all attributes of city object\n",
    "\n",
    "# Use random to calculate random numbers within range of possible lat/ lon values\n",
    "# Use nearest_city function to generate a list of 500 random cities"
   ]
  },
  {
   "cell_type": "code",
   "execution_count": null,
   "metadata": {},
   "outputs": [],
   "source": [
    "# Another way to do requests\n",
    "# params = {'lat':'35',\n",
    "#          'lon':'20',\n",
    "#          'appid':'957ed23d9fff1c592db253cd70ddf414'}\n",
    "# r = requests.get(url,params=params)\n",
    "# r.url"
   ]
  },
  {
   "cell_type": "code",
   "execution_count": null,
   "metadata": {},
   "outputs": [],
   "source": [
    "# Example api call: api.openweathermap.org/data/2.5/weather?lat=35&lon=139\n",
    "# query_url = url + \"lat=\" + lat + \"&lon=\" + lon + \"appid=\" + wkey\n",
    "# query_url = url + \"appid=\" + wkey +\"&lat=\" + lat + \"&lon=\" + lon\n",
    "\n",
    "# Concatenate variables to form query_urls list\n",
    "query_urls = []\n",
    "for i in range(500):\n",
    "    query_urls.append(url + \"appid=\" + wkey + \"&q=\" + city[i] + \",\" + country_code[i])\n",
    "print(query_urls)"
   ]
  },
  {
   "cell_type": "code",
   "execution_count": null,
   "metadata": {
    "scrolled": false
   },
   "outputs": [],
   "source": [
    "# Make an API call for each query url, append resultant json files to weather_json list\n",
    "weather_json = []\n",
    "for one_url in query_urls:\n",
    "    weather_response = requests.get(one_url)\n",
    "    weather_json.append(weather_response.json())\n",
    "# Print log of url\n",
    "    print(one_url)"
   ]
  },
  {
   "cell_type": "code",
   "execution_count": null,
   "metadata": {
    "scrolled": true
   },
   "outputs": [],
   "source": [
    "weather_json"
   ]
  },
  {
   "cell_type": "code",
   "execution_count": null,
   "metadata": {},
   "outputs": [],
   "source": [
    "# Empty lists to hold all values of interest\n",
    "new_city = []\n",
    "latitudes = []\n",
    "temps = []\n",
    "humidity = []\n",
    "cloudiness = []\n",
    "windspeed = []\n",
    "\n",
    "# Loop through each json file and gather data into lists\n",
    "# new_city is gathered from the json file, fixing the error if OpenWeatherMap doesn't have data on unique_city\n",
    "for i in range(500):\n",
    "    try:\n",
    "        new_city.append(weather_json[i]['name'])\n",
    "        latitudes.append(weather_json[i]['coord']['lat'])\n",
    "        temps.append(weather_json[i]['main']['temp'])\n",
    "        humidity.append(weather_json[i]['main']['humidity'])\n",
    "        cloudiness.append(weather_json[i]['clouds']['all'])\n",
    "        windspeed.append(weather_json[i]['wind']['speed'])\n",
    "    except:\n",
    "        continue\n",
    "# print(new_city)\n",
    "# print(latitudes)\n",
    "# print(temps)\n",
    "# print(humidity)\n",
    "# print(cloudiness)\n",
    "# print(windspeed)\n",
    "\n",
    "print(\"City:\", len(new_city), \"Latitude:\", len(latitudes), \"Temps:\", len(temps), \"Humidity:\", len(humidity), \"Cloudiness:\", \n",
    "     len(cloudiness), \"Windspeed: \", len(windspeed))"
   ]
  },
  {
   "cell_type": "code",
   "execution_count": null,
   "metadata": {},
   "outputs": [],
   "source": [
    "# DataFrame with all data\n",
    "# I can use DataFrame methods to ensure I don't have duplicate cities\n",
    "# unique_city removes duplicates, but OpenWeatherMap doesn't have data on all unique cities so lists are still uneven\n",
    "\n",
    "weather_df = pd.DataFrame({\n",
    "    \"City\":new_city, \n",
    "    \"Latitude\":latitudes, \n",
    "    \"Temperature\":temps, \n",
    "    \"Humidity\":humidity, \n",
    "    \"Cloudiness\":cloudiness, \n",
    "    \"Windspeed\":windspeed\n",
    "})\n",
    "# weather_df\n",
    "unique_weather_df = weather_df.drop_duplicates([\"Latitude\"])\n",
    "unique_weather_df.head(10)"
   ]
  },
  {
   "cell_type": "code",
   "execution_count": null,
   "metadata": {},
   "outputs": [],
   "source": [
    "# Latitude vs Temperature\n",
    "plt.title(\"Latitude v Temperature\")\n",
    "plt.xlabel(\"Latitude\")\n",
    "plt.ylabel(\"Temperature (K)\")\n",
    "plt.scatter(unique_weather_df[\"Latitude\"], unique_weather_df[\"Temperature\"], marker=\"o\", facecolors=\"red\", \n",
    "            edgecolors=\"black\")"
   ]
  },
  {
   "cell_type": "code",
   "execution_count": null,
   "metadata": {},
   "outputs": [],
   "source": [
    "# Latitude vs Humidity\n",
    "plt.title(\"Latitude v Humidity\")\n",
    "plt.xlabel(\"Latitude\")\n",
    "plt.ylabel(\"Humidity\")\n",
    "plt.scatter(unique_weather_df[\"Latitude\"], unique_weather_df[\"Humidity\"], marker=\"o\", facecolors=\"red\", edgecolors=\"black\")"
   ]
  },
  {
   "cell_type": "code",
   "execution_count": null,
   "metadata": {},
   "outputs": [],
   "source": [
    "# Latitude vs Cloudiness\n",
    "plt.title(\"Latitude v Cloudiness\")\n",
    "plt.xlabel(\"Latitude\")\n",
    "plt.ylabel(\"Cloudiness\")\n",
    "plt.scatter(unique_weather_df[\"Latitude\"], unique_weather_df[\"Cloudiness\"], marker=\"o\", facecolors=\"red\", \n",
    "            edgecolors=\"black\")"
   ]
  },
  {
   "cell_type": "code",
   "execution_count": null,
   "metadata": {},
   "outputs": [],
   "source": [
    "# Latitude vs Windspeed\n",
    "plt.title(\"Latitude v Windspeed\")\n",
    "plt.xlabel(\"Latitude\")\n",
    "plt.ylabel(\"Windspeed\")\n",
    "plt.scatter(unique_weather_df[\"Latitude\"], unique_weather_df[\"Windspeed\"], marker=\"o\", facecolors=\"red\", edgecolors=\"black\")"
   ]
  },
  {
   "cell_type": "code",
   "execution_count": null,
   "metadata": {},
   "outputs": [],
   "source": []
  }
 ],
 "metadata": {
  "kernelspec": {
   "display_name": "Python 3",
   "language": "python",
   "name": "python3"
  },
  "language_info": {
   "codemirror_mode": {
    "name": "ipython",
    "version": 3
   },
   "file_extension": ".py",
   "mimetype": "text/x-python",
   "name": "python",
   "nbconvert_exporter": "python",
   "pygments_lexer": "ipython3",
   "version": "3.6.4"
  }
 },
 "nbformat": 4,
 "nbformat_minor": 2
}
